{
 "cells": [
  {
   "cell_type": "code",
   "execution_count": 1,
   "metadata": {},
   "outputs": [
    {
     "name": "stderr",
     "output_type": "stream",
     "text": [
      "c:\\Users\\ADMIN\\anaconda3\\envs\\aider\\Lib\\site-packages\\tqdm\\auto.py:21: TqdmWarning: IProgress not found. Please update jupyter and ipywidgets. See https://ipywidgets.readthedocs.io/en/stable/user_install.html\n",
      "  from .autonotebook import tqdm as notebook_tqdm\n"
     ]
    }
   ],
   "source": [
    "import google.generativeai as genai"
   ]
  },
  {
   "cell_type": "code",
   "execution_count": 2,
   "metadata": {},
   "outputs": [
    {
     "data": {
      "text/plain": [
       "genai.GenerativeModel(\n",
       "    model_name='models/gemini-1.5-flash',\n",
       "    generation_config={},\n",
       "    safety_settings={},\n",
       "    tools=<google.generativeai.types.content_types.FunctionLibrary object at 0x0000028173618310>,\n",
       "    system_instruction=None,\n",
       "    cached_content=None\n",
       ")"
      ]
     },
     "execution_count": 2,
     "metadata": {},
     "output_type": "execute_result"
    }
   ],
   "source": [
    "def add(a: float, b: float):\n",
    "    \"\"\"returns a + b.\"\"\"\n",
    "    return a + b\n",
    "\n",
    "\n",
    "def subtract(a: float, b: float):\n",
    "    \"\"\"returns a - b.\"\"\"\n",
    "    return a - b\n",
    "\n",
    "\n",
    "def multiply(a: float, b: float):\n",
    "    \"\"\"returns a * b.\"\"\"\n",
    "    return a * b\n",
    "\n",
    "\n",
    "def divide(a: float, b: float):\n",
    "    \"\"\"returns a / b.\"\"\"\n",
    "    return a / b\n",
    "\n",
    "\n",
    "model = genai.GenerativeModel(\n",
    "    model_name=\"gemini-1.5-flash\", tools=[add, subtract, multiply, divide]\n",
    ")\n",
    "\n",
    "model"
   ]
  },
  {
   "cell_type": "code",
   "execution_count": 3,
   "metadata": {},
   "outputs": [],
   "source": [
    "chat = model.start_chat(enable_automatic_function_calling=True)"
   ]
  },
  {
   "cell_type": "code",
   "execution_count": 6,
   "metadata": {},
   "outputs": [
    {
     "data": {
      "text/plain": [
       "'Số người nhận được kẹo là: 16 : 4 = 4 (người)\\n\\nVậy có **4 người** nhận được kẹo. \\n'"
      ]
     },
     "execution_count": 6,
     "metadata": {},
     "output_type": "execute_result"
    }
   ],
   "source": [
    "response = chat.send_message(\n",
    "    \"trong túi có 16 cái kẹo chia đều cho mỗi người 4 cái kẹo hỏi số người nhận được 4 cái kẹo\"\n",
    ")\n",
    "response.text"
   ]
  },
  {
   "cell_type": "code",
   "execution_count": 7,
   "metadata": {},
   "outputs": [
    {
     "name": "stdout",
     "output_type": "stream",
     "text": [
      "user -> [{'text': 'I have 57 cats, each owns 44 mittens, how many mittens is that in total?'}]\n",
      "model -> [{'function_call': {'name': 'multiply', 'args': {'a': 57.0, 'b': 44.0}}}]\n",
      "user -> [{'function_response': {'name': 'multiply', 'response': {'result': 2508.0}}}]\n",
      "model -> [{'text': \"That's 2508 mittens in total. \\n\"}]\n",
      "user -> [{'text': 'trong túi có 18 cái kẹo chia đều cho mỗi người 4 cái kẹo hỏi số người nhận được 4 cái kẹo và có dư kẹo không'}]\n",
      "model -> [{'text': 'Số người nhận được kẹo là: 18 : 4 = 4 (người) dư 2 cái kẹo\\n\\nVậy có **4 người** nhận được kẹo và **dư 2 cái kẹo**. \\n'}]\n",
      "user -> [{'text': 'trong túi có 16 cái kẹo chia đều cho mỗi người 4 cái kẹo hỏi số người nhận được 4 cái kẹo'}]\n",
      "model -> [{'text': 'Số người nhận được kẹo là: 16 : 4 = 4 (người)\\n\\nVậy có **4 người** nhận được kẹo. \\n'}]\n"
     ]
    }
   ],
   "source": [
    "for content in chat.history:\n",
    "    print(content.role, \"->\", [type(part).to_dict(part) for part in content.parts])"
   ]
  },
  {
   "cell_type": "code",
   "execution_count": 11,
   "metadata": {},
   "outputs": [],
   "source": [
    "def find_movies(description: str, location: str = \"\"):\n",
    "    \"\"\"find movie titles currently playing in theaters based on any description, genre, title words, etc.\n",
    "\n",
    "    Args:\n",
    "        description: Any kind of description including category or genre, title words, attributes, etc.\n",
    "        location: The city and state, e.g. San Francisco, CA or a zip code e.g. 95616\n",
    "    \"\"\"\n",
    "    return [\"Barbie\", \"Oppenheimer\"]\n",
    "\n",
    "\n",
    "def find_theaters(location: str, movie: str = \"\"):\n",
    "    \"\"\"Find theaters based on location and optionally movie title which are is currently playing in theaters.\n",
    "\n",
    "    Args:\n",
    "        location: The city and state, e.g. San Francisco, CA or a zip code e.g. 95616\n",
    "        movie: Any movie title\n",
    "    \"\"\"\n",
    "    return [\"Googleplex 16\", \"Android Theatre\"]\n",
    "\n",
    "\n",
    "def get_showtimes(location: str, movie: str, theater: str, date: str):\n",
    "    \"\"\"\n",
    "    Find the start times for movies playing in a specific theater.\n",
    "\n",
    "    Args:\n",
    "      location: The city and state, e.g. San Francisco, CA or a zip code e.g. 95616\n",
    "      movie: Any movie title\n",
    "      thearer: Name of the theater\n",
    "      date: Date for requested showtime\n",
    "    \"\"\"\n",
    "    return [\"10:00\", \"11:00\"]"
   ]
  },
  {
   "cell_type": "code",
   "execution_count": 12,
   "metadata": {},
   "outputs": [],
   "source": [
    "functions = {\n",
    "    \"find_movies\": find_movies,\n",
    "    \"find_theaters\": find_theaters,\n",
    "    \"get_showtimes\": get_showtimes,\n",
    "}\n",
    "\n",
    "model = genai.GenerativeModel(model_name=\"gemini-1.5-flash\", tools=functions.values())"
   ]
  },
  {
   "cell_type": "code",
   "execution_count": 14,
   "metadata": {},
   "outputs": [
    {
     "data": {
      "text/plain": [
       "[function_call {\n",
       "  name: \"find_theaters\"\n",
       "  args {\n",
       "    fields {\n",
       "      key: \"movie\"\n",
       "      value {\n",
       "        string_value: \"Barbie\"\n",
       "      }\n",
       "    }\n",
       "    fields {\n",
       "      key: \"location\"\n",
       "      value {\n",
       "        string_value: \"Mountain View, CA\"\n",
       "      }\n",
       "    }\n",
       "  }\n",
       "}\n",
       "]"
      ]
     },
     "execution_count": 14,
     "metadata": {},
     "output_type": "execute_result"
    }
   ],
   "source": [
    "response = model.generate_content(\n",
    "    \"Which theaters in Mountain View show the Barbie movie?\"\n",
    ")\n",
    "response.candidates[0].content.parts"
   ]
  },
  {
   "cell_type": "code",
   "execution_count": 15,
   "metadata": {},
   "outputs": [
    {
     "name": "stdout",
     "output_type": "stream",
     "text": [
      "['Googleplex 16', 'Android Theatre']\n"
     ]
    }
   ],
   "source": [
    "def call_function(function_call, functions):\n",
    "    function_name = function_call.name\n",
    "    function_args = function_call.args\n",
    "    return functions[function_name](**function_args)\n",
    "\n",
    "\n",
    "part = response.candidates[0].content.parts[0]\n",
    "\n",
    "# Check if it's a function call; in real use you'd need to also handle text\n",
    "# responses as you won't know what the model will respond with.\n",
    "if part.function_call:\n",
    "    result = call_function(part.function_call, functions)\n",
    "\n",
    "print(result)"
   ]
  },
  {
   "cell_type": "code",
   "execution_count": null,
   "metadata": {},
   "outputs": [],
   "source": []
  },
  {
   "cell_type": "code",
   "execution_count": null,
   "metadata": {},
   "outputs": [],
   "source": []
  },
  {
   "cell_type": "code",
   "execution_count": null,
   "metadata": {},
   "outputs": [],
   "source": []
  },
  {
   "cell_type": "code",
   "execution_count": null,
   "metadata": {},
   "outputs": [],
   "source": []
  },
  {
   "cell_type": "code",
   "execution_count": null,
   "metadata": {},
   "outputs": [],
   "source": []
  },
  {
   "cell_type": "code",
   "execution_count": null,
   "metadata": {},
   "outputs": [],
   "source": []
  },
  {
   "cell_type": "code",
   "execution_count": null,
   "metadata": {},
   "outputs": [],
   "source": []
  },
  {
   "cell_type": "code",
   "execution_count": null,
   "metadata": {},
   "outputs": [],
   "source": []
  },
  {
   "cell_type": "code",
   "execution_count": null,
   "metadata": {},
   "outputs": [],
   "source": []
  }
 ],
 "metadata": {
  "kernelspec": {
   "display_name": "aider",
   "language": "python",
   "name": "python3"
  },
  "language_info": {
   "codemirror_mode": {
    "name": "ipython",
    "version": 3
   },
   "file_extension": ".py",
   "mimetype": "text/x-python",
   "name": "python",
   "nbconvert_exporter": "python",
   "pygments_lexer": "ipython3",
   "version": "3.11.10"
  }
 },
 "nbformat": 4,
 "nbformat_minor": 2
}
